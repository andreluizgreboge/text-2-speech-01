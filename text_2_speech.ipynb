{
  "nbformat": 4,
  "nbformat_minor": 0,
  "metadata": {
    "colab": {
      "name": "text-2-speech.ipynb",
      "provenance": []
    },
    "kernelspec": {
      "name": "python3",
      "display_name": "Python 3"
    },
    "language_info": {
      "name": "python"
    }
  },
  "cells": [
    {
      "cell_type": "code",
      "execution_count": null,
      "metadata": {
        "id": "HWGKc6vi0pQI"
      },
      "outputs": [],
      "source": [
        "!pip install gTTS\n",
        "from gtts import gTTS\n",
        "import os"
      ]
    },
    {
      "cell_type": "code",
      "source": [
        "texto = input('Please insert the text you want to hear: ')\n",
        "lingua = 'en'\n",
        "obj = gTTS(text=texto, lang=lingua, slow=False)\n",
        "obj.save('audio.mp3')"
      ],
      "metadata": {
        "colab": {
          "base_uri": "https://localhost:8080/"
        },
        "id": "TSczQKmM360s",
        "outputId": "dcbda894-a15d-43e1-88dd-34b805fe7aaf"
      },
      "execution_count": 9,
      "outputs": [
        {
          "name": "stdout",
          "output_type": "stream",
          "text": [
            "Please insert the text you want to hear: William Shakespeare (26 April 1564 to 23 April 1616) was an English playwright, poet and actor, widely regarded as the greatest writer in the English language and the world's greatest dramatist.\n"
          ]
        }
      ]
    }
  ]
}